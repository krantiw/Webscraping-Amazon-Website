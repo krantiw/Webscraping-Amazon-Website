{
 "cells": [
  {
   "cell_type": "code",
   "execution_count": 1,
   "metadata": {},
   "outputs": [],
   "source": [
    "from autoscraper import AutoScraper"
   ]
  },
  {
   "cell_type": "code",
   "execution_count": 2,
   "metadata": {},
   "outputs": [],
   "source": [
    "url = \"https://www.amazon.in/s?k=iphones\""
   ]
  },
  {
   "cell_type": "code",
   "execution_count": 3,
   "metadata": {},
   "outputs": [],
   "source": [
    "# the list conatin 3 information: price, title & ratings\n",
    "wanted_list =[\"58,999\", \"New Apple iPhone 12 Mini (64GB) - Blue\", \"3,266\"]"
   ]
  },
  {
   "cell_type": "code",
   "execution_count": 4,
   "metadata": {},
   "outputs": [
    {
     "data": {
      "text/plain": [
       "['1,20,900',\n",
       " '59,900',\n",
       " '75,900',\n",
       " '92,900',\n",
       " '54,900',\n",
       " '70,900',\n",
       " '58,999',\n",
       " '64,999',\n",
       " '84,900',\n",
       " '53,400',\n",
       " '1,55,900',\n",
       " 'New Apple iPhone 12 Pro Max (128GB) - Pacific Blue',\n",
       " 'New Apple iPhone 11 (128GB) - Black',\n",
       " 'New Apple iPhone 12 (128GB) - Blue',\n",
       " 'Apple iPhone 11 Pro Max (256GB) - Midnight Green',\n",
       " 'New Apple iPhone 11 (64GB) - Green',\n",
       " 'New Apple iPhone 12 (64GB) - Blue',\n",
       " 'New Apple iPhone 12 Mini (64GB) - Black',\n",
       " 'New Apple iPhone 12 Mini (128GB) - Green',\n",
       " 'New Apple iPhone 11 (128GB) - Green',\n",
       " 'New Apple iPhone 11 (64GB) - White',\n",
       " 'Apple iPhone 11 Pro Max (64GB) - Space Grey',\n",
       " 'New Apple iPhone 11 (64GB) - Purple',\n",
       " 'New Apple iPhone 12 Mini (64GB) - Blue',\n",
       " 'New Apple iPhone 12 (64GB) - Black',\n",
       " 'New Apple iPhone 12 Pro Max (512GB) - Gold',\n",
       " 'New Apple iPhone 11 (128GB) - White',\n",
       " '369',\n",
       " '26,230',\n",
       " '2,033',\n",
       " '797',\n",
       " '3,266']"
      ]
     },
     "execution_count": 4,
     "metadata": {},
     "output_type": "execute_result"
    }
   ],
   "source": [
    "#Build an autoscrap with a given url and wanted_list\n",
    "scapper = AutoScraper()\n",
    "scapper.build(url, wanted_list)"
   ]
  },
  {
   "cell_type": "code",
   "execution_count": 5,
   "metadata": {},
   "outputs": [
    {
     "data": {
      "text/plain": [
       "{'rule_emqs': ['75,900',\n",
       "  '59,900',\n",
       "  '58,999',\n",
       "  '58,999',\n",
       "  '1,20,900',\n",
       "  '54,900',\n",
       "  '59,900',\n",
       "  '54,900',\n",
       "  '70,900',\n",
       "  '59,900',\n",
       "  '59,900',\n",
       "  '64,999',\n",
       "  '70,900',\n",
       "  '53,400',\n",
       "  '58,999',\n",
       "  '75,900'],\n",
       " 'rule_z05l': ['75,900',\n",
       "  '59,900',\n",
       "  '58,999',\n",
       "  '58,999',\n",
       "  '1,20,900',\n",
       "  '54,900',\n",
       "  '59,900',\n",
       "  '54,900',\n",
       "  '70,900',\n",
       "  '59,900',\n",
       "  '59,900',\n",
       "  '64,999',\n",
       "  '70,900',\n",
       "  '53,400',\n",
       "  '58,999',\n",
       "  '75,900'],\n",
       " 'rule_nneh': ['New Apple iPhone 12 (128GB) - Blue',\n",
       "  'New Apple iPhone 11 (128GB) - Black',\n",
       "  'New Apple iPhone 12 Mini (64GB) - Black',\n",
       "  'New Apple iPhone 12 Mini (64GB) - Blue',\n",
       "  'New Apple iPhone 12 Pro Max (128GB) - Pacific Blue',\n",
       "  'New Apple iPhone 11 (64GB) - Green',\n",
       "  'New Apple iPhone 11 (128GB) - White',\n",
       "  'New Apple iPhone 11 (64GB) - White',\n",
       "  'New Apple iPhone 12 (64GB) - Blue',\n",
       "  'New Apple iPhone 11 (128GB) - Green',\n",
       "  'New Apple iPhone 11 (128GB) - (Product) RED',\n",
       "  'New Apple iPhone 12 Mini (128GB) - Green',\n",
       "  'New Apple iPhone 12 (64GB) - Black',\n",
       "  'New Apple iPhone 11 (64GB) - Purple',\n",
       "  'New Apple iPhone 12 Mini (64GB) - White',\n",
       "  'New Apple iPhone 12 (128GB) - Black'],\n",
       " 'rule_jnu8': ['New Apple iPhone 12 (128GB) - Blue',\n",
       "  'New Apple iPhone 11 (128GB) - Black',\n",
       "  'New Apple iPhone 12 Mini (64GB) - Black',\n",
       "  'New Apple iPhone 12 Mini (64GB) - Blue',\n",
       "  'New Apple iPhone 12 Pro Max (128GB) - Pacific Blue',\n",
       "  'New Apple iPhone 11 (64GB) - Green',\n",
       "  'New Apple iPhone 11 (128GB) - White',\n",
       "  'New Apple iPhone 11 (64GB) - White',\n",
       "  'New Apple iPhone 12 (64GB) - Blue',\n",
       "  'New Apple iPhone 11 (128GB) - Green',\n",
       "  'New Apple iPhone 11 (128GB) - (Product) RED',\n",
       "  'New Apple iPhone 12 Mini (128GB) - Green',\n",
       "  'New Apple iPhone 12 (64GB) - Black',\n",
       "  'New Apple iPhone 11 (64GB) - Purple',\n",
       "  'New Apple iPhone 12 Mini (64GB) - White',\n",
       "  'New Apple iPhone 12 (128GB) - Black'],\n",
       " 'rule_i3w9': ['2,033',\n",
       "  '26,230',\n",
       "  '3,266',\n",
       "  '3,266',\n",
       "  '369',\n",
       "  '26,230',\n",
       "  '26,230',\n",
       "  '26,230',\n",
       "  '2,033',\n",
       "  '26,230',\n",
       "  '26,230',\n",
       "  '3,266',\n",
       "  '2,033',\n",
       "  '26,230',\n",
       "  '3,266',\n",
       "  '2,033'],\n",
       " 'rule_pvky': ['2,033',\n",
       "  '26,230',\n",
       "  '3,266',\n",
       "  '3,266',\n",
       "  '369',\n",
       "  '26,230',\n",
       "  '26,230',\n",
       "  '26,230',\n",
       "  '2,033',\n",
       "  '26,230',\n",
       "  '26,230',\n",
       "  '3,266',\n",
       "  '2,033',\n",
       "  '26,230',\n",
       "  '3,266',\n",
       "  '2,033'],\n",
       " 'rule_p3po': ['2,033',\n",
       "  '26,230',\n",
       "  '3,266',\n",
       "  '3,266',\n",
       "  '369',\n",
       "  '26,230',\n",
       "  '26,230',\n",
       "  '26,230',\n",
       "  '2,033',\n",
       "  '26,230',\n",
       "  '26,230',\n",
       "  '3,266',\n",
       "  '2,033',\n",
       "  '26,230',\n",
       "  '3,266',\n",
       "  '2,033']}"
      ]
     },
     "execution_count": 5,
     "metadata": {},
     "output_type": "execute_result"
    }
   ],
   "source": [
    "#Since the information is in scattered form, lets group it \n",
    "scapper.get_result_similar(url, grouped= True)"
   ]
  },
  {
   "cell_type": "code",
   "execution_count": 6,
   "metadata": {},
   "outputs": [],
   "source": [
    "#Take alias information in the form of  a key as Price, Title and Ratings, save it.\n",
    "scapper.set_rule_aliases({\"rule_z05l\" : \"Price\",'rule_nneh': \"Title\",  \"rule_i3w9\":\"Ratings\"})\n",
    "scapper.keep_rules([\"rule_z05l\",'rule_nneh',\"rule_i3w9\" ])\n",
    "scapper.save(\"amazon-search\")"
   ]
  },
  {
   "cell_type": "code",
   "execution_count": 7,
   "metadata": {},
   "outputs": [
    {
     "data": {
      "text/plain": [
       "{'Price': ['21,999',\n",
       "  '8,499',\n",
       "  '6,799',\n",
       "  '9,999',\n",
       "  '9,999',\n",
       "  '7,499',\n",
       "  '23,999',\n",
       "  '9,999',\n",
       "  '10,999',\n",
       "  '11,999',\n",
       "  '7,099',\n",
       "  '7,499',\n",
       "  '7,999',\n",
       "  '8,499',\n",
       "  '14,999',\n",
       "  '23,999'],\n",
       " 'Title': ['Mi 10i 5G (Atlantic Blue, 6GB RAM, 128GB Storage) - 108MP Quad Camera | Snapdragon 750G Processor | Upto 6 Months No Cost EMI',\n",
       "  'Redmi 9 (Sky Blue, 4GB RAM, 64GB Storage)| 5000 mAh| 2.3GHz Mediatek Helio G35 Octa core Processor',\n",
       "  'Redmi 9A (Nature Green, 2GB Ram, 32GB Storage) | 2GHz Octa-core Helio G25 Processor',\n",
       "  'Redmi 9 (Sporty Orange, 4GB RAM, 128GB Storage) | 5000 mAh| 2.3GHz Mediatek Helio G35 Octa core Processor',\n",
       "  'Redmi 9 Power (Electric Green, 4GB RAM, 64GB Storage) - 6000mAh Battery |FHD+ Screen| 48MP Quad Camera',\n",
       "  'Redmi 9A (Midnight Black, 3GB Ram, 32GB Storage) | 2GHz Octa-core Helio G25 Processor',\n",
       "  'Mi 10i 5G (Midnight Black, 8GB RAM, 128GB Storage) - 108MP Quad Camera | Snapdragon 750G Processor | Upto 6 Months No Cost EMI',\n",
       "  'Redmi 9 (Sky Blue, 4GB RAM, 128GB Storage) | 5000 mAh| 2.3GHz Mediatek Helio G35 Octa core Processor',\n",
       "  'Redmi Note 9 (Pebble Grey, 4GB RAM 64GB Storage) - 48MP Quad Camera & Full HD+ Display',\n",
       "  'Redmi Note 9 Pro (Interstellar Black, 4GB RAM, 64GB Storage)- Latest 8nm Snapdragon 720G & Alexa Hands-Free',\n",
       "  '(Renewed) Redmi Note 5 Pro (Black)',\n",
       "  'Redmi 9A (Nature Green, 3GB Ram, 32GB Storage) | 2GHz Octa-core Helio G25 Processor',\n",
       "  'Mi Redmi 6A (Rose Gold, 2GB RAM, 32GB Storage)',\n",
       "  'Redmi 9 (Carbon Black, 4GB RAM, 64GB Storage) | 5000 mAh| 2.3GHz Mediatek Helio G35 Octa core Processor',\n",
       "  'Redmi Note 9 Pro Max (Champagne Gold, 6GB RAM, 64GB Storage) - 64MP Quad Camera & Latest 8nm Snapdragon 720G & Alexa Hands-Free',\n",
       "  'Mi 10i 5G (Atlantic Blue, 8GB RAM, 128GB Storage) - 108MP Quad Camera | Snapdragon 750G Processor | Upto 6 Months No Cost EMI'],\n",
       " 'Ratings': ['13,865',\n",
       "  '34,748',\n",
       "  '39,486',\n",
       "  '34,748',\n",
       "  '26,020',\n",
       "  '39,486',\n",
       "  '13,865',\n",
       "  '34,748',\n",
       "  '55,331',\n",
       "  '18,873',\n",
       "  '182',\n",
       "  '39,486',\n",
       "  '77,278',\n",
       "  '34,748',\n",
       "  '59,856',\n",
       "  '13,865']}"
      ]
     },
     "execution_count": 7,
     "metadata": {},
     "output_type": "execute_result"
    }
   ],
   "source": [
    "#Lets scrape for the MI phone page\n",
    "result = scapper.get_result_similar(\"https://www.amazon.in/s?k=mi+phone\", group_by_alias= True)\n",
    "result"
   ]
  },
  {
   "cell_type": "code",
   "execution_count": 8,
   "metadata": {},
   "outputs": [
    {
     "data": {
      "text/plain": [
       "['Mi 10i 5G (Atlantic Blue, 6GB RAM, 128GB Storage) - 108MP Quad Camera | Snapdragon 750G Processor | Upto 6 Months No Cost EMI',\n",
       " 'Redmi 9 (Sky Blue, 4GB RAM, 64GB Storage)| 5000 mAh| 2.3GHz Mediatek Helio G35 Octa core Processor',\n",
       " 'Redmi 9A (Nature Green, 2GB Ram, 32GB Storage) | 2GHz Octa-core Helio G25 Processor',\n",
       " 'Redmi 9 (Sporty Orange, 4GB RAM, 128GB Storage) | 5000 mAh| 2.3GHz Mediatek Helio G35 Octa core Processor',\n",
       " 'Redmi 9 Power (Electric Green, 4GB RAM, 64GB Storage) - 6000mAh Battery |FHD+ Screen| 48MP Quad Camera',\n",
       " 'Redmi 9A (Midnight Black, 3GB Ram, 32GB Storage) | 2GHz Octa-core Helio G25 Processor',\n",
       " 'Mi 10i 5G (Midnight Black, 8GB RAM, 128GB Storage) - 108MP Quad Camera | Snapdragon 750G Processor | Upto 6 Months No Cost EMI',\n",
       " 'Redmi 9 (Sky Blue, 4GB RAM, 128GB Storage) | 5000 mAh| 2.3GHz Mediatek Helio G35 Octa core Processor',\n",
       " 'Redmi Note 9 (Pebble Grey, 4GB RAM 64GB Storage) - 48MP Quad Camera & Full HD+ Display',\n",
       " 'Redmi Note 9 Pro (Interstellar Black, 4GB RAM, 64GB Storage)- Latest 8nm Snapdragon 720G & Alexa Hands-Free',\n",
       " '(Renewed) Redmi Note 5 Pro (Black)',\n",
       " 'Redmi 9A (Nature Green, 3GB Ram, 32GB Storage) | 2GHz Octa-core Helio G25 Processor',\n",
       " 'Mi Redmi 6A (Rose Gold, 2GB RAM, 32GB Storage)',\n",
       " 'Redmi 9 (Carbon Black, 4GB RAM, 64GB Storage) | 5000 mAh| 2.3GHz Mediatek Helio G35 Octa core Processor',\n",
       " 'Redmi Note 9 Pro Max (Champagne Gold, 6GB RAM, 64GB Storage) - 64MP Quad Camera & Latest 8nm Snapdragon 720G & Alexa Hands-Free',\n",
       " 'Mi 10i 5G (Atlantic Blue, 8GB RAM, 128GB Storage) - 108MP Quad Camera | Snapdragon 750G Processor | Upto 6 Months No Cost EMI']"
      ]
     },
     "execution_count": 8,
     "metadata": {},
     "output_type": "execute_result"
    }
   ],
   "source": [
    "#Display the titles of the MI Phones\n",
    "result[\"Title\"]"
   ]
  },
  {
   "cell_type": "code",
   "execution_count": null,
   "metadata": {},
   "outputs": [],
   "source": []
  }
 ],
 "metadata": {
  "kernelspec": {
   "display_name": "Python 3",
   "language": "python",
   "name": "python3"
  },
  "language_info": {
   "codemirror_mode": {
    "name": "ipython",
    "version": 3
   },
   "file_extension": ".py",
   "mimetype": "text/x-python",
   "name": "python",
   "nbconvert_exporter": "python",
   "pygments_lexer": "ipython3",
   "version": "3.8.5"
  },
  "toc": {
   "base_numbering": 1,
   "nav_menu": {},
   "number_sections": true,
   "sideBar": true,
   "skip_h1_title": false,
   "title_cell": "Table of Contents",
   "title_sidebar": "Contents",
   "toc_cell": false,
   "toc_position": {},
   "toc_section_display": true,
   "toc_window_display": false
  }
 },
 "nbformat": 4,
 "nbformat_minor": 4
}
